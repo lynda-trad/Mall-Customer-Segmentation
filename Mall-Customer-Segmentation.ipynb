{
 "cells": [
  {
   "cell_type": "markdown",
   "id": "b9eb584c",
   "metadata": {
    "heading_collapsed": true
   },
   "source": [
    "# Mall Customer Segmentation"
   ]
  },
  {
   "cell_type": "markdown",
   "id": "c8467909",
   "metadata": {
    "heading_collapsed": true
   },
   "source": [
    "# Summary"
   ]
  },
  {
   "cell_type": "markdown",
   "id": "0300cc3a",
   "metadata": {
    "hidden": true
   },
   "source": [
    "* Data Analysis\n",
    "* Data Visualisation\n",
    "\n",
    "Clustering :\n",
    "* KMeans\n",
    "* DBScan\n",
    "* Agglomerative Clustering"
   ]
  },
  {
   "cell_type": "markdown",
   "id": "b006a566",
   "metadata": {
    "heading_collapsed": true
   },
   "source": [
    "# Library"
   ]
  },
  {
   "cell_type": "code",
   "execution_count": 3,
   "id": "9bb81829",
   "metadata": {
    "ExecuteTime": {
     "end_time": "2022-02-16T10:27:46.516661Z",
     "start_time": "2022-02-16T10:27:45.316669Z"
    },
    "hidden": true,
    "scrolled": true
   },
   "outputs": [],
   "source": [
    "# Data\n",
    "import numpy as np\n",
    "import pandas as pd\n",
    "import seaborn as sns\n",
    "import matplotlib.pyplot as plt\n",
    "import plotly.express as px\n",
    "\n",
    "# Machine Learning library\n",
    "from kneed import KneeLocator\n",
    "from sklearn.neighbors import NearestNeighbors\n",
    "from yellowbrick.cluster import SilhouetteVisualizer\n",
    "from sklearn.preprocessing import LabelEncoder, StandardScaler\n",
    "from sklearn.cluster import KMeans, DBSCAN\n",
    "from sklearn.metrics import silhouette_score, calinski_harabasz_score, davies_bouldin_score\n",
    "\n",
    "# Other\n",
    "from time import time\n",
    "from warnings import filterwarnings\n",
    "filterwarnings('ignore')"
   ]
  },
  {
   "cell_type": "markdown",
   "id": "f14989e4",
   "metadata": {
    "heading_collapsed": true
   },
   "source": [
    "# Data "
   ]
  },
  {
   "cell_type": "code",
   "execution_count": 14,
   "id": "76b6fce9",
   "metadata": {
    "ExecuteTime": {
     "end_time": "2022-02-16T10:37:52.159166Z",
     "start_time": "2022-02-16T10:37:52.137262Z"
    },
    "hidden": true,
    "scrolled": true
   },
   "outputs": [
    {
     "data": {
      "text/html": [
       "<div>\n",
       "<style scoped>\n",
       "    .dataframe tbody tr th:only-of-type {\n",
       "        vertical-align: middle;\n",
       "    }\n",
       "\n",
       "    .dataframe tbody tr th {\n",
       "        vertical-align: top;\n",
       "    }\n",
       "\n",
       "    .dataframe thead th {\n",
       "        text-align: right;\n",
       "    }\n",
       "</style>\n",
       "<table border=\"1\" class=\"dataframe\">\n",
       "  <thead>\n",
       "    <tr style=\"text-align: right;\">\n",
       "      <th></th>\n",
       "      <th>CustomerID</th>\n",
       "      <th>Gender</th>\n",
       "      <th>Age</th>\n",
       "      <th>Annual Income (k$)</th>\n",
       "      <th>Spending Score (1-100)</th>\n",
       "    </tr>\n",
       "  </thead>\n",
       "  <tbody>\n",
       "    <tr>\n",
       "      <th>0</th>\n",
       "      <td>1</td>\n",
       "      <td>Male</td>\n",
       "      <td>19</td>\n",
       "      <td>15</td>\n",
       "      <td>39</td>\n",
       "    </tr>\n",
       "    <tr>\n",
       "      <th>1</th>\n",
       "      <td>2</td>\n",
       "      <td>Male</td>\n",
       "      <td>21</td>\n",
       "      <td>15</td>\n",
       "      <td>81</td>\n",
       "    </tr>\n",
       "    <tr>\n",
       "      <th>2</th>\n",
       "      <td>3</td>\n",
       "      <td>Female</td>\n",
       "      <td>20</td>\n",
       "      <td>16</td>\n",
       "      <td>6</td>\n",
       "    </tr>\n",
       "    <tr>\n",
       "      <th>3</th>\n",
       "      <td>4</td>\n",
       "      <td>Female</td>\n",
       "      <td>23</td>\n",
       "      <td>16</td>\n",
       "      <td>77</td>\n",
       "    </tr>\n",
       "    <tr>\n",
       "      <th>4</th>\n",
       "      <td>5</td>\n",
       "      <td>Female</td>\n",
       "      <td>31</td>\n",
       "      <td>17</td>\n",
       "      <td>40</td>\n",
       "    </tr>\n",
       "    <tr>\n",
       "      <th>...</th>\n",
       "      <td>...</td>\n",
       "      <td>...</td>\n",
       "      <td>...</td>\n",
       "      <td>...</td>\n",
       "      <td>...</td>\n",
       "    </tr>\n",
       "    <tr>\n",
       "      <th>195</th>\n",
       "      <td>196</td>\n",
       "      <td>Female</td>\n",
       "      <td>35</td>\n",
       "      <td>120</td>\n",
       "      <td>79</td>\n",
       "    </tr>\n",
       "    <tr>\n",
       "      <th>196</th>\n",
       "      <td>197</td>\n",
       "      <td>Female</td>\n",
       "      <td>45</td>\n",
       "      <td>126</td>\n",
       "      <td>28</td>\n",
       "    </tr>\n",
       "    <tr>\n",
       "      <th>197</th>\n",
       "      <td>198</td>\n",
       "      <td>Male</td>\n",
       "      <td>32</td>\n",
       "      <td>126</td>\n",
       "      <td>74</td>\n",
       "    </tr>\n",
       "    <tr>\n",
       "      <th>198</th>\n",
       "      <td>199</td>\n",
       "      <td>Male</td>\n",
       "      <td>32</td>\n",
       "      <td>137</td>\n",
       "      <td>18</td>\n",
       "    </tr>\n",
       "    <tr>\n",
       "      <th>199</th>\n",
       "      <td>200</td>\n",
       "      <td>Male</td>\n",
       "      <td>30</td>\n",
       "      <td>137</td>\n",
       "      <td>83</td>\n",
       "    </tr>\n",
       "  </tbody>\n",
       "</table>\n",
       "<p>200 rows × 5 columns</p>\n",
       "</div>"
      ],
      "text/plain": [
       "     CustomerID  Gender  Age  Annual Income (k$)  Spending Score (1-100)\n",
       "0             1    Male   19                  15                      39\n",
       "1             2    Male   21                  15                      81\n",
       "2             3  Female   20                  16                       6\n",
       "3             4  Female   23                  16                      77\n",
       "4             5  Female   31                  17                      40\n",
       "..          ...     ...  ...                 ...                     ...\n",
       "195         196  Female   35                 120                      79\n",
       "196         197  Female   45                 126                      28\n",
       "197         198    Male   32                 126                      74\n",
       "198         199    Male   32                 137                      18\n",
       "199         200    Male   30                 137                      83\n",
       "\n",
       "[200 rows x 5 columns]"
      ]
     },
     "execution_count": 14,
     "metadata": {},
     "output_type": "execute_result"
    }
   ],
   "source": [
    "data = pd.read_csv(\"./resources/mall_customers.csv\", encoding='utf-8', sep=',')\n",
    "data"
   ]
  },
  {
   "cell_type": "markdown",
   "id": "39aa57be",
   "metadata": {
    "heading_collapsed": true,
    "hidden": true
   },
   "source": [
    "## Missing Values"
   ]
  },
  {
   "cell_type": "code",
   "execution_count": 29,
   "id": "2d782eea",
   "metadata": {
    "ExecuteTime": {
     "end_time": "2022-02-16T10:58:07.970365Z",
     "start_time": "2022-02-16T10:58:07.948078Z"
    },
    "hidden": true
   },
   "outputs": [
    {
     "name": "stdout",
     "output_type": "stream",
     "text": [
      "Percentage of missing values on each column :\n",
      "\n",
      "CustomerID                0.0\n",
      "Gender                    0.0\n",
      "Age                       0.0\n",
      "Annual Income (k$)        0.0\n",
      "Spending Score (1-100)    0.0\n",
      "dtype: float64\n"
     ]
    }
   ],
   "source": [
    "print(\"Percentage of missing values on each column :\\n\")\n",
    "print(((data.isnull().sum()/data.shape[0])*100).sort_values(ascending=False))"
   ]
  },
  {
   "cell_type": "markdown",
   "id": "677d3706",
   "metadata": {
    "heading_collapsed": true,
    "hidden": true
   },
   "source": [
    "## Boxplots"
   ]
  },
  {
   "cell_type": "code",
   "execution_count": 28,
   "id": "d91b92b7",
   "metadata": {
    "ExecuteTime": {
     "end_time": "2022-02-16T10:54:26.910483Z",
     "start_time": "2022-02-16T10:54:26.864595Z"
    },
    "hidden": true
   },
   "outputs": [
    {
     "data": {
      "application/vnd.plotly.v1+json": {
       "config": {
        "plotlyServerURL": "https://plot.ly"
       },
       "data": [
        {
         "alignmentgroup": "True",
         "hovertemplate": "variable=%{x}<br>value=%{y}<extra></extra>",
         "legendgroup": "",
         "marker": {
          "color": "#636efa"
         },
         "name": "",
         "notched": false,
         "offsetgroup": "",
         "orientation": "v",
         "showlegend": false,
         "type": "box",
         "x": [
          "Age",
          "Age",
          "Age",
          "Age",
          "Age",
          "Age",
          "Age",
          "Age",
          "Age",
          "Age",
          "Age",
          "Age",
          "Age",
          "Age",
          "Age",
          "Age",
          "Age",
          "Age",
          "Age",
          "Age",
          "Age",
          "Age",
          "Age",
          "Age",
          "Age",
          "Age",
          "Age",
          "Age",
          "Age",
          "Age",
          "Age",
          "Age",
          "Age",
          "Age",
          "Age",
          "Age",
          "Age",
          "Age",
          "Age",
          "Age",
          "Age",
          "Age",
          "Age",
          "Age",
          "Age",
          "Age",
          "Age",
          "Age",
          "Age",
          "Age",
          "Age",
          "Age",
          "Age",
          "Age",
          "Age",
          "Age",
          "Age",
          "Age",
          "Age",
          "Age",
          "Age",
          "Age",
          "Age",
          "Age",
          "Age",
          "Age",
          "Age",
          "Age",
          "Age",
          "Age",
          "Age",
          "Age",
          "Age",
          "Age",
          "Age",
          "Age",
          "Age",
          "Age",
          "Age",
          "Age",
          "Age",
          "Age",
          "Age",
          "Age",
          "Age",
          "Age",
          "Age",
          "Age",
          "Age",
          "Age",
          "Age",
          "Age",
          "Age",
          "Age",
          "Age",
          "Age",
          "Age",
          "Age",
          "Age",
          "Age",
          "Age",
          "Age",
          "Age",
          "Age",
          "Age",
          "Age",
          "Age",
          "Age",
          "Age",
          "Age",
          "Age",
          "Age",
          "Age",
          "Age",
          "Age",
          "Age",
          "Age",
          "Age",
          "Age",
          "Age",
          "Age",
          "Age",
          "Age",
          "Age",
          "Age",
          "Age",
          "Age",
          "Age",
          "Age",
          "Age",
          "Age",
          "Age",
          "Age",
          "Age",
          "Age",
          "Age",
          "Age",
          "Age",
          "Age",
          "Age",
          "Age",
          "Age",
          "Age",
          "Age",
          "Age",
          "Age",
          "Age",
          "Age",
          "Age",
          "Age",
          "Age",
          "Age",
          "Age",
          "Age",
          "Age",
          "Age",
          "Age",
          "Age",
          "Age",
          "Age",
          "Age",
          "Age",
          "Age",
          "Age",
          "Age",
          "Age",
          "Age",
          "Age",
          "Age",
          "Age",
          "Age",
          "Age",
          "Age",
          "Age",
          "Age",
          "Age",
          "Age",
          "Age",
          "Age",
          "Age",
          "Age",
          "Age",
          "Age",
          "Age",
          "Age",
          "Age",
          "Age",
          "Age",
          "Age",
          "Age",
          "Age",
          "Age",
          "Age",
          "Age",
          "Age",
          "Age",
          "Age",
          "Age",
          "Age",
          "Age",
          "Annual Income (k$)",
          "Annual Income (k$)",
          "Annual Income (k$)",
          "Annual Income (k$)",
          "Annual Income (k$)",
          "Annual Income (k$)",
          "Annual Income (k$)",
          "Annual Income (k$)",
          "Annual Income (k$)",
          "Annual Income (k$)",
          "Annual Income (k$)",
          "Annual Income (k$)",
          "Annual Income (k$)",
          "Annual Income (k$)",
          "Annual Income (k$)",
          "Annual Income (k$)",
          "Annual Income (k$)",
          "Annual Income (k$)",
          "Annual Income (k$)",
          "Annual Income (k$)",
          "Annual Income (k$)",
          "Annual Income (k$)",
          "Annual Income (k$)",
          "Annual Income (k$)",
          "Annual Income (k$)",
          "Annual Income (k$)",
          "Annual Income (k$)",
          "Annual Income (k$)",
          "Annual Income (k$)",
          "Annual Income (k$)",
          "Annual Income (k$)",
          "Annual Income (k$)",
          "Annual Income (k$)",
          "Annual Income (k$)",
          "Annual Income (k$)",
          "Annual Income (k$)",
          "Annual Income (k$)",
          "Annual Income (k$)",
          "Annual Income (k$)",
          "Annual Income (k$)",
          "Annual Income (k$)",
          "Annual Income (k$)",
          "Annual Income (k$)",
          "Annual Income (k$)",
          "Annual Income (k$)",
          "Annual Income (k$)",
          "Annual Income (k$)",
          "Annual Income (k$)",
          "Annual Income (k$)",
          "Annual Income (k$)",
          "Annual Income (k$)",
          "Annual Income (k$)",
          "Annual Income (k$)",
          "Annual Income (k$)",
          "Annual Income (k$)",
          "Annual Income (k$)",
          "Annual Income (k$)",
          "Annual Income (k$)",
          "Annual Income (k$)",
          "Annual Income (k$)",
          "Annual Income (k$)",
          "Annual Income (k$)",
          "Annual Income (k$)",
          "Annual Income (k$)",
          "Annual Income (k$)",
          "Annual Income (k$)",
          "Annual Income (k$)",
          "Annual Income (k$)",
          "Annual Income (k$)",
          "Annual Income (k$)",
          "Annual Income (k$)",
          "Annual Income (k$)",
          "Annual Income (k$)",
          "Annual Income (k$)",
          "Annual Income (k$)",
          "Annual Income (k$)",
          "Annual Income (k$)",
          "Annual Income (k$)",
          "Annual Income (k$)",
          "Annual Income (k$)",
          "Annual Income (k$)",
          "Annual Income (k$)",
          "Annual Income (k$)",
          "Annual Income (k$)",
          "Annual Income (k$)",
          "Annual Income (k$)",
          "Annual Income (k$)",
          "Annual Income (k$)",
          "Annual Income (k$)",
          "Annual Income (k$)",
          "Annual Income (k$)",
          "Annual Income (k$)",
          "Annual Income (k$)",
          "Annual Income (k$)",
          "Annual Income (k$)",
          "Annual Income (k$)",
          "Annual Income (k$)",
          "Annual Income (k$)",
          "Annual Income (k$)",
          "Annual Income (k$)",
          "Annual Income (k$)",
          "Annual Income (k$)",
          "Annual Income (k$)",
          "Annual Income (k$)",
          "Annual Income (k$)",
          "Annual Income (k$)",
          "Annual Income (k$)",
          "Annual Income (k$)",
          "Annual Income (k$)",
          "Annual Income (k$)",
          "Annual Income (k$)",
          "Annual Income (k$)",
          "Annual Income (k$)",
          "Annual Income (k$)",
          "Annual Income (k$)",
          "Annual Income (k$)",
          "Annual Income (k$)",
          "Annual Income (k$)",
          "Annual Income (k$)",
          "Annual Income (k$)",
          "Annual Income (k$)",
          "Annual Income (k$)",
          "Annual Income (k$)",
          "Annual Income (k$)",
          "Annual Income (k$)",
          "Annual Income (k$)",
          "Annual Income (k$)",
          "Annual Income (k$)",
          "Annual Income (k$)",
          "Annual Income (k$)",
          "Annual Income (k$)",
          "Annual Income (k$)",
          "Annual Income (k$)",
          "Annual Income (k$)",
          "Annual Income (k$)",
          "Annual Income (k$)",
          "Annual Income (k$)",
          "Annual Income (k$)",
          "Annual Income (k$)",
          "Annual Income (k$)",
          "Annual Income (k$)",
          "Annual Income (k$)",
          "Annual Income (k$)",
          "Annual Income (k$)",
          "Annual Income (k$)",
          "Annual Income (k$)",
          "Annual Income (k$)",
          "Annual Income (k$)",
          "Annual Income (k$)",
          "Annual Income (k$)",
          "Annual Income (k$)",
          "Annual Income (k$)",
          "Annual Income (k$)",
          "Annual Income (k$)",
          "Annual Income (k$)",
          "Annual Income (k$)",
          "Annual Income (k$)",
          "Annual Income (k$)",
          "Annual Income (k$)",
          "Annual Income (k$)",
          "Annual Income (k$)",
          "Annual Income (k$)",
          "Annual Income (k$)",
          "Annual Income (k$)",
          "Annual Income (k$)",
          "Annual Income (k$)",
          "Annual Income (k$)",
          "Annual Income (k$)",
          "Annual Income (k$)",
          "Annual Income (k$)",
          "Annual Income (k$)",
          "Annual Income (k$)",
          "Annual Income (k$)",
          "Annual Income (k$)",
          "Annual Income (k$)",
          "Annual Income (k$)",
          "Annual Income (k$)",
          "Annual Income (k$)",
          "Annual Income (k$)",
          "Annual Income (k$)",
          "Annual Income (k$)",
          "Annual Income (k$)",
          "Annual Income (k$)",
          "Annual Income (k$)",
          "Annual Income (k$)",
          "Annual Income (k$)",
          "Annual Income (k$)",
          "Annual Income (k$)",
          "Annual Income (k$)",
          "Annual Income (k$)",
          "Annual Income (k$)",
          "Annual Income (k$)",
          "Annual Income (k$)",
          "Annual Income (k$)",
          "Annual Income (k$)",
          "Annual Income (k$)",
          "Annual Income (k$)",
          "Annual Income (k$)",
          "Annual Income (k$)",
          "Annual Income (k$)",
          "Spending Score (1-100)",
          "Spending Score (1-100)",
          "Spending Score (1-100)",
          "Spending Score (1-100)",
          "Spending Score (1-100)",
          "Spending Score (1-100)",
          "Spending Score (1-100)",
          "Spending Score (1-100)",
          "Spending Score (1-100)",
          "Spending Score (1-100)",
          "Spending Score (1-100)",
          "Spending Score (1-100)",
          "Spending Score (1-100)",
          "Spending Score (1-100)",
          "Spending Score (1-100)",
          "Spending Score (1-100)",
          "Spending Score (1-100)",
          "Spending Score (1-100)",
          "Spending Score (1-100)",
          "Spending Score (1-100)",
          "Spending Score (1-100)",
          "Spending Score (1-100)",
          "Spending Score (1-100)",
          "Spending Score (1-100)",
          "Spending Score (1-100)",
          "Spending Score (1-100)",
          "Spending Score (1-100)",
          "Spending Score (1-100)",
          "Spending Score (1-100)",
          "Spending Score (1-100)",
          "Spending Score (1-100)",
          "Spending Score (1-100)",
          "Spending Score (1-100)",
          "Spending Score (1-100)",
          "Spending Score (1-100)",
          "Spending Score (1-100)",
          "Spending Score (1-100)",
          "Spending Score (1-100)",
          "Spending Score (1-100)",
          "Spending Score (1-100)",
          "Spending Score (1-100)",
          "Spending Score (1-100)",
          "Spending Score (1-100)",
          "Spending Score (1-100)",
          "Spending Score (1-100)",
          "Spending Score (1-100)",
          "Spending Score (1-100)",
          "Spending Score (1-100)",
          "Spending Score (1-100)",
          "Spending Score (1-100)",
          "Spending Score (1-100)",
          "Spending Score (1-100)",
          "Spending Score (1-100)",
          "Spending Score (1-100)",
          "Spending Score (1-100)",
          "Spending Score (1-100)",
          "Spending Score (1-100)",
          "Spending Score (1-100)",
          "Spending Score (1-100)",
          "Spending Score (1-100)",
          "Spending Score (1-100)",
          "Spending Score (1-100)",
          "Spending Score (1-100)",
          "Spending Score (1-100)",
          "Spending Score (1-100)",
          "Spending Score (1-100)",
          "Spending Score (1-100)",
          "Spending Score (1-100)",
          "Spending Score (1-100)",
          "Spending Score (1-100)",
          "Spending Score (1-100)",
          "Spending Score (1-100)",
          "Spending Score (1-100)",
          "Spending Score (1-100)",
          "Spending Score (1-100)",
          "Spending Score (1-100)",
          "Spending Score (1-100)",
          "Spending Score (1-100)",
          "Spending Score (1-100)",
          "Spending Score (1-100)",
          "Spending Score (1-100)",
          "Spending Score (1-100)",
          "Spending Score (1-100)",
          "Spending Score (1-100)",
          "Spending Score (1-100)",
          "Spending Score (1-100)",
          "Spending Score (1-100)",
          "Spending Score (1-100)",
          "Spending Score (1-100)",
          "Spending Score (1-100)",
          "Spending Score (1-100)",
          "Spending Score (1-100)",
          "Spending Score (1-100)",
          "Spending Score (1-100)",
          "Spending Score (1-100)",
          "Spending Score (1-100)",
          "Spending Score (1-100)",
          "Spending Score (1-100)",
          "Spending Score (1-100)",
          "Spending Score (1-100)",
          "Spending Score (1-100)",
          "Spending Score (1-100)",
          "Spending Score (1-100)",
          "Spending Score (1-100)",
          "Spending Score (1-100)",
          "Spending Score (1-100)",
          "Spending Score (1-100)",
          "Spending Score (1-100)",
          "Spending Score (1-100)",
          "Spending Score (1-100)",
          "Spending Score (1-100)",
          "Spending Score (1-100)",
          "Spending Score (1-100)",
          "Spending Score (1-100)",
          "Spending Score (1-100)",
          "Spending Score (1-100)",
          "Spending Score (1-100)",
          "Spending Score (1-100)",
          "Spending Score (1-100)",
          "Spending Score (1-100)",
          "Spending Score (1-100)",
          "Spending Score (1-100)",
          "Spending Score (1-100)",
          "Spending Score (1-100)",
          "Spending Score (1-100)",
          "Spending Score (1-100)",
          "Spending Score (1-100)",
          "Spending Score (1-100)",
          "Spending Score (1-100)",
          "Spending Score (1-100)",
          "Spending Score (1-100)",
          "Spending Score (1-100)",
          "Spending Score (1-100)",
          "Spending Score (1-100)",
          "Spending Score (1-100)",
          "Spending Score (1-100)",
          "Spending Score (1-100)",
          "Spending Score (1-100)",
          "Spending Score (1-100)",
          "Spending Score (1-100)",
          "Spending Score (1-100)",
          "Spending Score (1-100)",
          "Spending Score (1-100)",
          "Spending Score (1-100)",
          "Spending Score (1-100)",
          "Spending Score (1-100)",
          "Spending Score (1-100)",
          "Spending Score (1-100)",
          "Spending Score (1-100)",
          "Spending Score (1-100)",
          "Spending Score (1-100)",
          "Spending Score (1-100)",
          "Spending Score (1-100)",
          "Spending Score (1-100)",
          "Spending Score (1-100)",
          "Spending Score (1-100)",
          "Spending Score (1-100)",
          "Spending Score (1-100)",
          "Spending Score (1-100)",
          "Spending Score (1-100)",
          "Spending Score (1-100)",
          "Spending Score (1-100)",
          "Spending Score (1-100)",
          "Spending Score (1-100)",
          "Spending Score (1-100)",
          "Spending Score (1-100)",
          "Spending Score (1-100)",
          "Spending Score (1-100)",
          "Spending Score (1-100)",
          "Spending Score (1-100)",
          "Spending Score (1-100)",
          "Spending Score (1-100)",
          "Spending Score (1-100)",
          "Spending Score (1-100)",
          "Spending Score (1-100)",
          "Spending Score (1-100)",
          "Spending Score (1-100)",
          "Spending Score (1-100)",
          "Spending Score (1-100)",
          "Spending Score (1-100)",
          "Spending Score (1-100)",
          "Spending Score (1-100)",
          "Spending Score (1-100)",
          "Spending Score (1-100)",
          "Spending Score (1-100)",
          "Spending Score (1-100)",
          "Spending Score (1-100)",
          "Spending Score (1-100)",
          "Spending Score (1-100)",
          "Spending Score (1-100)",
          "Spending Score (1-100)",
          "Spending Score (1-100)",
          "Spending Score (1-100)",
          "Spending Score (1-100)",
          "Spending Score (1-100)",
          "Spending Score (1-100)",
          "Spending Score (1-100)",
          "Spending Score (1-100)",
          "Spending Score (1-100)",
          "Spending Score (1-100)"
         ],
         "x0": " ",
         "xaxis": "x",
         "y": [
          19,
          21,
          20,
          23,
          31,
          22,
          35,
          23,
          64,
          30,
          67,
          35,
          58,
          24,
          37,
          22,
          35,
          20,
          52,
          35,
          35,
          25,
          46,
          31,
          54,
          29,
          45,
          35,
          40,
          23,
          60,
          21,
          53,
          18,
          49,
          21,
          42,
          30,
          36,
          20,
          65,
          24,
          48,
          31,
          49,
          24,
          50,
          27,
          29,
          31,
          49,
          33,
          31,
          59,
          50,
          47,
          51,
          69,
          27,
          53,
          70,
          19,
          67,
          54,
          63,
          18,
          43,
          68,
          19,
          32,
          70,
          47,
          60,
          60,
          59,
          26,
          45,
          40,
          23,
          49,
          57,
          38,
          67,
          46,
          21,
          48,
          55,
          22,
          34,
          50,
          68,
          18,
          48,
          40,
          32,
          24,
          47,
          27,
          48,
          20,
          23,
          49,
          67,
          26,
          49,
          21,
          66,
          54,
          68,
          66,
          65,
          19,
          38,
          19,
          18,
          19,
          63,
          49,
          51,
          50,
          27,
          38,
          40,
          39,
          23,
          31,
          43,
          40,
          59,
          38,
          47,
          39,
          25,
          31,
          20,
          29,
          44,
          32,
          19,
          35,
          57,
          32,
          28,
          32,
          25,
          28,
          48,
          32,
          34,
          34,
          43,
          39,
          44,
          38,
          47,
          27,
          37,
          30,
          34,
          30,
          56,
          29,
          19,
          31,
          50,
          36,
          42,
          33,
          36,
          32,
          40,
          28,
          36,
          36,
          52,
          30,
          58,
          27,
          59,
          35,
          37,
          32,
          46,
          29,
          41,
          30,
          54,
          28,
          41,
          36,
          34,
          32,
          33,
          38,
          47,
          35,
          45,
          32,
          32,
          30,
          15,
          15,
          16,
          16,
          17,
          17,
          18,
          18,
          19,
          19,
          19,
          19,
          20,
          20,
          20,
          20,
          21,
          21,
          23,
          23,
          24,
          24,
          25,
          25,
          28,
          28,
          28,
          28,
          29,
          29,
          30,
          30,
          33,
          33,
          33,
          33,
          34,
          34,
          37,
          37,
          38,
          38,
          39,
          39,
          39,
          39,
          40,
          40,
          40,
          40,
          42,
          42,
          43,
          43,
          43,
          43,
          44,
          44,
          46,
          46,
          46,
          46,
          47,
          47,
          48,
          48,
          48,
          48,
          48,
          48,
          49,
          49,
          50,
          50,
          54,
          54,
          54,
          54,
          54,
          54,
          54,
          54,
          54,
          54,
          54,
          54,
          57,
          57,
          58,
          58,
          59,
          59,
          60,
          60,
          60,
          60,
          60,
          60,
          61,
          61,
          62,
          62,
          62,
          62,
          62,
          62,
          63,
          63,
          63,
          63,
          63,
          63,
          64,
          64,
          65,
          65,
          65,
          65,
          67,
          67,
          67,
          67,
          69,
          69,
          70,
          70,
          71,
          71,
          71,
          71,
          71,
          71,
          72,
          72,
          73,
          73,
          73,
          73,
          74,
          74,
          75,
          75,
          76,
          76,
          77,
          77,
          77,
          77,
          78,
          78,
          78,
          78,
          78,
          78,
          78,
          78,
          78,
          78,
          78,
          78,
          79,
          79,
          81,
          81,
          85,
          85,
          86,
          86,
          87,
          87,
          87,
          87,
          87,
          87,
          88,
          88,
          88,
          88,
          93,
          93,
          97,
          97,
          98,
          98,
          99,
          99,
          101,
          101,
          103,
          103,
          103,
          103,
          113,
          113,
          120,
          120,
          126,
          126,
          137,
          137,
          39,
          81,
          6,
          77,
          40,
          76,
          6,
          94,
          3,
          72,
          14,
          99,
          15,
          77,
          13,
          79,
          35,
          66,
          29,
          98,
          35,
          73,
          5,
          73,
          14,
          82,
          32,
          61,
          31,
          87,
          4,
          73,
          4,
          92,
          14,
          81,
          17,
          73,
          26,
          75,
          35,
          92,
          36,
          61,
          28,
          65,
          55,
          47,
          42,
          42,
          52,
          60,
          54,
          60,
          45,
          41,
          50,
          46,
          51,
          46,
          56,
          55,
          52,
          59,
          51,
          59,
          50,
          48,
          59,
          47,
          55,
          42,
          49,
          56,
          47,
          54,
          53,
          48,
          52,
          42,
          51,
          55,
          41,
          44,
          57,
          46,
          58,
          55,
          60,
          46,
          55,
          41,
          49,
          40,
          42,
          52,
          47,
          50,
          42,
          49,
          41,
          48,
          59,
          55,
          56,
          42,
          50,
          46,
          43,
          48,
          52,
          54,
          42,
          46,
          48,
          50,
          43,
          59,
          43,
          57,
          56,
          40,
          58,
          91,
          29,
          77,
          35,
          95,
          11,
          75,
          9,
          75,
          34,
          71,
          5,
          88,
          7,
          73,
          10,
          72,
          5,
          93,
          40,
          87,
          12,
          97,
          36,
          74,
          22,
          90,
          17,
          88,
          20,
          76,
          16,
          89,
          1,
          78,
          1,
          73,
          35,
          83,
          5,
          93,
          26,
          75,
          20,
          95,
          27,
          63,
          13,
          75,
          10,
          92,
          13,
          86,
          15,
          69,
          14,
          90,
          32,
          86,
          15,
          88,
          39,
          97,
          24,
          68,
          17,
          85,
          23,
          69,
          8,
          91,
          16,
          79,
          28,
          74,
          18,
          83
         ],
         "y0": " ",
         "yaxis": "y"
        }
       ],
       "layout": {
        "boxmode": "group",
        "legend": {
         "tracegroupgap": 0
        },
        "template": {
         "data": {
          "bar": [
           {
            "error_x": {
             "color": "#2a3f5f"
            },
            "error_y": {
             "color": "#2a3f5f"
            },
            "marker": {
             "line": {
              "color": "#E5ECF6",
              "width": 0.5
             },
             "pattern": {
              "fillmode": "overlay",
              "size": 10,
              "solidity": 0.2
             }
            },
            "type": "bar"
           }
          ],
          "barpolar": [
           {
            "marker": {
             "line": {
              "color": "#E5ECF6",
              "width": 0.5
             },
             "pattern": {
              "fillmode": "overlay",
              "size": 10,
              "solidity": 0.2
             }
            },
            "type": "barpolar"
           }
          ],
          "carpet": [
           {
            "aaxis": {
             "endlinecolor": "#2a3f5f",
             "gridcolor": "white",
             "linecolor": "white",
             "minorgridcolor": "white",
             "startlinecolor": "#2a3f5f"
            },
            "baxis": {
             "endlinecolor": "#2a3f5f",
             "gridcolor": "white",
             "linecolor": "white",
             "minorgridcolor": "white",
             "startlinecolor": "#2a3f5f"
            },
            "type": "carpet"
           }
          ],
          "choropleth": [
           {
            "colorbar": {
             "outlinewidth": 0,
             "ticks": ""
            },
            "type": "choropleth"
           }
          ],
          "contour": [
           {
            "colorbar": {
             "outlinewidth": 0,
             "ticks": ""
            },
            "colorscale": [
             [
              0,
              "#0d0887"
             ],
             [
              0.1111111111111111,
              "#46039f"
             ],
             [
              0.2222222222222222,
              "#7201a8"
             ],
             [
              0.3333333333333333,
              "#9c179e"
             ],
             [
              0.4444444444444444,
              "#bd3786"
             ],
             [
              0.5555555555555556,
              "#d8576b"
             ],
             [
              0.6666666666666666,
              "#ed7953"
             ],
             [
              0.7777777777777778,
              "#fb9f3a"
             ],
             [
              0.8888888888888888,
              "#fdca26"
             ],
             [
              1,
              "#f0f921"
             ]
            ],
            "type": "contour"
           }
          ],
          "contourcarpet": [
           {
            "colorbar": {
             "outlinewidth": 0,
             "ticks": ""
            },
            "type": "contourcarpet"
           }
          ],
          "heatmap": [
           {
            "colorbar": {
             "outlinewidth": 0,
             "ticks": ""
            },
            "colorscale": [
             [
              0,
              "#0d0887"
             ],
             [
              0.1111111111111111,
              "#46039f"
             ],
             [
              0.2222222222222222,
              "#7201a8"
             ],
             [
              0.3333333333333333,
              "#9c179e"
             ],
             [
              0.4444444444444444,
              "#bd3786"
             ],
             [
              0.5555555555555556,
              "#d8576b"
             ],
             [
              0.6666666666666666,
              "#ed7953"
             ],
             [
              0.7777777777777778,
              "#fb9f3a"
             ],
             [
              0.8888888888888888,
              "#fdca26"
             ],
             [
              1,
              "#f0f921"
             ]
            ],
            "type": "heatmap"
           }
          ],
          "heatmapgl": [
           {
            "colorbar": {
             "outlinewidth": 0,
             "ticks": ""
            },
            "colorscale": [
             [
              0,
              "#0d0887"
             ],
             [
              0.1111111111111111,
              "#46039f"
             ],
             [
              0.2222222222222222,
              "#7201a8"
             ],
             [
              0.3333333333333333,
              "#9c179e"
             ],
             [
              0.4444444444444444,
              "#bd3786"
             ],
             [
              0.5555555555555556,
              "#d8576b"
             ],
             [
              0.6666666666666666,
              "#ed7953"
             ],
             [
              0.7777777777777778,
              "#fb9f3a"
             ],
             [
              0.8888888888888888,
              "#fdca26"
             ],
             [
              1,
              "#f0f921"
             ]
            ],
            "type": "heatmapgl"
           }
          ],
          "histogram": [
           {
            "marker": {
             "pattern": {
              "fillmode": "overlay",
              "size": 10,
              "solidity": 0.2
             }
            },
            "type": "histogram"
           }
          ],
          "histogram2d": [
           {
            "colorbar": {
             "outlinewidth": 0,
             "ticks": ""
            },
            "colorscale": [
             [
              0,
              "#0d0887"
             ],
             [
              0.1111111111111111,
              "#46039f"
             ],
             [
              0.2222222222222222,
              "#7201a8"
             ],
             [
              0.3333333333333333,
              "#9c179e"
             ],
             [
              0.4444444444444444,
              "#bd3786"
             ],
             [
              0.5555555555555556,
              "#d8576b"
             ],
             [
              0.6666666666666666,
              "#ed7953"
             ],
             [
              0.7777777777777778,
              "#fb9f3a"
             ],
             [
              0.8888888888888888,
              "#fdca26"
             ],
             [
              1,
              "#f0f921"
             ]
            ],
            "type": "histogram2d"
           }
          ],
          "histogram2dcontour": [
           {
            "colorbar": {
             "outlinewidth": 0,
             "ticks": ""
            },
            "colorscale": [
             [
              0,
              "#0d0887"
             ],
             [
              0.1111111111111111,
              "#46039f"
             ],
             [
              0.2222222222222222,
              "#7201a8"
             ],
             [
              0.3333333333333333,
              "#9c179e"
             ],
             [
              0.4444444444444444,
              "#bd3786"
             ],
             [
              0.5555555555555556,
              "#d8576b"
             ],
             [
              0.6666666666666666,
              "#ed7953"
             ],
             [
              0.7777777777777778,
              "#fb9f3a"
             ],
             [
              0.8888888888888888,
              "#fdca26"
             ],
             [
              1,
              "#f0f921"
             ]
            ],
            "type": "histogram2dcontour"
           }
          ],
          "mesh3d": [
           {
            "colorbar": {
             "outlinewidth": 0,
             "ticks": ""
            },
            "type": "mesh3d"
           }
          ],
          "parcoords": [
           {
            "line": {
             "colorbar": {
              "outlinewidth": 0,
              "ticks": ""
             }
            },
            "type": "parcoords"
           }
          ],
          "pie": [
           {
            "automargin": true,
            "type": "pie"
           }
          ],
          "scatter": [
           {
            "marker": {
             "colorbar": {
              "outlinewidth": 0,
              "ticks": ""
             }
            },
            "type": "scatter"
           }
          ],
          "scatter3d": [
           {
            "line": {
             "colorbar": {
              "outlinewidth": 0,
              "ticks": ""
             }
            },
            "marker": {
             "colorbar": {
              "outlinewidth": 0,
              "ticks": ""
             }
            },
            "type": "scatter3d"
           }
          ],
          "scattercarpet": [
           {
            "marker": {
             "colorbar": {
              "outlinewidth": 0,
              "ticks": ""
             }
            },
            "type": "scattercarpet"
           }
          ],
          "scattergeo": [
           {
            "marker": {
             "colorbar": {
              "outlinewidth": 0,
              "ticks": ""
             }
            },
            "type": "scattergeo"
           }
          ],
          "scattergl": [
           {
            "marker": {
             "colorbar": {
              "outlinewidth": 0,
              "ticks": ""
             }
            },
            "type": "scattergl"
           }
          ],
          "scattermapbox": [
           {
            "marker": {
             "colorbar": {
              "outlinewidth": 0,
              "ticks": ""
             }
            },
            "type": "scattermapbox"
           }
          ],
          "scatterpolar": [
           {
            "marker": {
             "colorbar": {
              "outlinewidth": 0,
              "ticks": ""
             }
            },
            "type": "scatterpolar"
           }
          ],
          "scatterpolargl": [
           {
            "marker": {
             "colorbar": {
              "outlinewidth": 0,
              "ticks": ""
             }
            },
            "type": "scatterpolargl"
           }
          ],
          "scatterternary": [
           {
            "marker": {
             "colorbar": {
              "outlinewidth": 0,
              "ticks": ""
             }
            },
            "type": "scatterternary"
           }
          ],
          "surface": [
           {
            "colorbar": {
             "outlinewidth": 0,
             "ticks": ""
            },
            "colorscale": [
             [
              0,
              "#0d0887"
             ],
             [
              0.1111111111111111,
              "#46039f"
             ],
             [
              0.2222222222222222,
              "#7201a8"
             ],
             [
              0.3333333333333333,
              "#9c179e"
             ],
             [
              0.4444444444444444,
              "#bd3786"
             ],
             [
              0.5555555555555556,
              "#d8576b"
             ],
             [
              0.6666666666666666,
              "#ed7953"
             ],
             [
              0.7777777777777778,
              "#fb9f3a"
             ],
             [
              0.8888888888888888,
              "#fdca26"
             ],
             [
              1,
              "#f0f921"
             ]
            ],
            "type": "surface"
           }
          ],
          "table": [
           {
            "cells": {
             "fill": {
              "color": "#EBF0F8"
             },
             "line": {
              "color": "white"
             }
            },
            "header": {
             "fill": {
              "color": "#C8D4E3"
             },
             "line": {
              "color": "white"
             }
            },
            "type": "table"
           }
          ]
         },
         "layout": {
          "annotationdefaults": {
           "arrowcolor": "#2a3f5f",
           "arrowhead": 0,
           "arrowwidth": 1
          },
          "autotypenumbers": "strict",
          "coloraxis": {
           "colorbar": {
            "outlinewidth": 0,
            "ticks": ""
           }
          },
          "colorscale": {
           "diverging": [
            [
             0,
             "#8e0152"
            ],
            [
             0.1,
             "#c51b7d"
            ],
            [
             0.2,
             "#de77ae"
            ],
            [
             0.3,
             "#f1b6da"
            ],
            [
             0.4,
             "#fde0ef"
            ],
            [
             0.5,
             "#f7f7f7"
            ],
            [
             0.6,
             "#e6f5d0"
            ],
            [
             0.7,
             "#b8e186"
            ],
            [
             0.8,
             "#7fbc41"
            ],
            [
             0.9,
             "#4d9221"
            ],
            [
             1,
             "#276419"
            ]
           ],
           "sequential": [
            [
             0,
             "#0d0887"
            ],
            [
             0.1111111111111111,
             "#46039f"
            ],
            [
             0.2222222222222222,
             "#7201a8"
            ],
            [
             0.3333333333333333,
             "#9c179e"
            ],
            [
             0.4444444444444444,
             "#bd3786"
            ],
            [
             0.5555555555555556,
             "#d8576b"
            ],
            [
             0.6666666666666666,
             "#ed7953"
            ],
            [
             0.7777777777777778,
             "#fb9f3a"
            ],
            [
             0.8888888888888888,
             "#fdca26"
            ],
            [
             1,
             "#f0f921"
            ]
           ],
           "sequentialminus": [
            [
             0,
             "#0d0887"
            ],
            [
             0.1111111111111111,
             "#46039f"
            ],
            [
             0.2222222222222222,
             "#7201a8"
            ],
            [
             0.3333333333333333,
             "#9c179e"
            ],
            [
             0.4444444444444444,
             "#bd3786"
            ],
            [
             0.5555555555555556,
             "#d8576b"
            ],
            [
             0.6666666666666666,
             "#ed7953"
            ],
            [
             0.7777777777777778,
             "#fb9f3a"
            ],
            [
             0.8888888888888888,
             "#fdca26"
            ],
            [
             1,
             "#f0f921"
            ]
           ]
          },
          "colorway": [
           "#636efa",
           "#EF553B",
           "#00cc96",
           "#ab63fa",
           "#FFA15A",
           "#19d3f3",
           "#FF6692",
           "#B6E880",
           "#FF97FF",
           "#FECB52"
          ],
          "font": {
           "color": "#2a3f5f"
          },
          "geo": {
           "bgcolor": "white",
           "lakecolor": "white",
           "landcolor": "#E5ECF6",
           "showlakes": true,
           "showland": true,
           "subunitcolor": "white"
          },
          "hoverlabel": {
           "align": "left"
          },
          "hovermode": "closest",
          "mapbox": {
           "style": "light"
          },
          "paper_bgcolor": "white",
          "plot_bgcolor": "#E5ECF6",
          "polar": {
           "angularaxis": {
            "gridcolor": "white",
            "linecolor": "white",
            "ticks": ""
           },
           "bgcolor": "#E5ECF6",
           "radialaxis": {
            "gridcolor": "white",
            "linecolor": "white",
            "ticks": ""
           }
          },
          "scene": {
           "xaxis": {
            "backgroundcolor": "#E5ECF6",
            "gridcolor": "white",
            "gridwidth": 2,
            "linecolor": "white",
            "showbackground": true,
            "ticks": "",
            "zerolinecolor": "white"
           },
           "yaxis": {
            "backgroundcolor": "#E5ECF6",
            "gridcolor": "white",
            "gridwidth": 2,
            "linecolor": "white",
            "showbackground": true,
            "ticks": "",
            "zerolinecolor": "white"
           },
           "zaxis": {
            "backgroundcolor": "#E5ECF6",
            "gridcolor": "white",
            "gridwidth": 2,
            "linecolor": "white",
            "showbackground": true,
            "ticks": "",
            "zerolinecolor": "white"
           }
          },
          "shapedefaults": {
           "line": {
            "color": "#2a3f5f"
           }
          },
          "ternary": {
           "aaxis": {
            "gridcolor": "white",
            "linecolor": "white",
            "ticks": ""
           },
           "baxis": {
            "gridcolor": "white",
            "linecolor": "white",
            "ticks": ""
           },
           "bgcolor": "#E5ECF6",
           "caxis": {
            "gridcolor": "white",
            "linecolor": "white",
            "ticks": ""
           }
          },
          "title": {
           "x": 0.05
          },
          "xaxis": {
           "automargin": true,
           "gridcolor": "white",
           "linecolor": "white",
           "ticks": "",
           "title": {
            "standoff": 15
           },
           "zerolinecolor": "white",
           "zerolinewidth": 2
          },
          "yaxis": {
           "automargin": true,
           "gridcolor": "white",
           "linecolor": "white",
           "ticks": "",
           "title": {
            "standoff": 15
           },
           "zerolinecolor": "white",
           "zerolinewidth": 2
          }
         }
        },
        "title": {
         "text": "Circumference and height boxplot before cleanup"
        },
        "xaxis": {
         "anchor": "y",
         "domain": [
          0,
          1
         ],
         "title": {
          "text": "variable"
         }
        },
        "yaxis": {
         "anchor": "x",
         "domain": [
          0,
          1
         ],
         "title": {
          "text": "value"
         },
         "type": "log"
        }
       }
      },
      "text/html": [
       "<div>                            <div id=\"acb4251a-ad13-4731-95f4-7868222341c4\" class=\"plotly-graph-div\" style=\"height:525px; width:100%;\"></div>            <script type=\"text/javascript\">                require([\"plotly\"], function(Plotly) {                    window.PLOTLYENV=window.PLOTLYENV || {};                                    if (document.getElementById(\"acb4251a-ad13-4731-95f4-7868222341c4\")) {                    Plotly.newPlot(                        \"acb4251a-ad13-4731-95f4-7868222341c4\",                        [{\"alignmentgroup\":\"True\",\"hovertemplate\":\"variable=%{x}<br>value=%{y}<extra></extra>\",\"legendgroup\":\"\",\"marker\":{\"color\":\"#636efa\"},\"name\":\"\",\"notched\":false,\"offsetgroup\":\"\",\"orientation\":\"v\",\"showlegend\":false,\"x\":[\"Age\",\"Age\",\"Age\",\"Age\",\"Age\",\"Age\",\"Age\",\"Age\",\"Age\",\"Age\",\"Age\",\"Age\",\"Age\",\"Age\",\"Age\",\"Age\",\"Age\",\"Age\",\"Age\",\"Age\",\"Age\",\"Age\",\"Age\",\"Age\",\"Age\",\"Age\",\"Age\",\"Age\",\"Age\",\"Age\",\"Age\",\"Age\",\"Age\",\"Age\",\"Age\",\"Age\",\"Age\",\"Age\",\"Age\",\"Age\",\"Age\",\"Age\",\"Age\",\"Age\",\"Age\",\"Age\",\"Age\",\"Age\",\"Age\",\"Age\",\"Age\",\"Age\",\"Age\",\"Age\",\"Age\",\"Age\",\"Age\",\"Age\",\"Age\",\"Age\",\"Age\",\"Age\",\"Age\",\"Age\",\"Age\",\"Age\",\"Age\",\"Age\",\"Age\",\"Age\",\"Age\",\"Age\",\"Age\",\"Age\",\"Age\",\"Age\",\"Age\",\"Age\",\"Age\",\"Age\",\"Age\",\"Age\",\"Age\",\"Age\",\"Age\",\"Age\",\"Age\",\"Age\",\"Age\",\"Age\",\"Age\",\"Age\",\"Age\",\"Age\",\"Age\",\"Age\",\"Age\",\"Age\",\"Age\",\"Age\",\"Age\",\"Age\",\"Age\",\"Age\",\"Age\",\"Age\",\"Age\",\"Age\",\"Age\",\"Age\",\"Age\",\"Age\",\"Age\",\"Age\",\"Age\",\"Age\",\"Age\",\"Age\",\"Age\",\"Age\",\"Age\",\"Age\",\"Age\",\"Age\",\"Age\",\"Age\",\"Age\",\"Age\",\"Age\",\"Age\",\"Age\",\"Age\",\"Age\",\"Age\",\"Age\",\"Age\",\"Age\",\"Age\",\"Age\",\"Age\",\"Age\",\"Age\",\"Age\",\"Age\",\"Age\",\"Age\",\"Age\",\"Age\",\"Age\",\"Age\",\"Age\",\"Age\",\"Age\",\"Age\",\"Age\",\"Age\",\"Age\",\"Age\",\"Age\",\"Age\",\"Age\",\"Age\",\"Age\",\"Age\",\"Age\",\"Age\",\"Age\",\"Age\",\"Age\",\"Age\",\"Age\",\"Age\",\"Age\",\"Age\",\"Age\",\"Age\",\"Age\",\"Age\",\"Age\",\"Age\",\"Age\",\"Age\",\"Age\",\"Age\",\"Age\",\"Age\",\"Age\",\"Age\",\"Age\",\"Age\",\"Age\",\"Age\",\"Age\",\"Age\",\"Age\",\"Age\",\"Age\",\"Age\",\"Age\",\"Age\",\"Annual Income (k$)\",\"Annual Income (k$)\",\"Annual Income (k$)\",\"Annual Income (k$)\",\"Annual Income (k$)\",\"Annual Income (k$)\",\"Annual Income (k$)\",\"Annual Income (k$)\",\"Annual Income (k$)\",\"Annual Income (k$)\",\"Annual Income (k$)\",\"Annual Income (k$)\",\"Annual Income (k$)\",\"Annual Income (k$)\",\"Annual Income (k$)\",\"Annual Income (k$)\",\"Annual Income (k$)\",\"Annual Income (k$)\",\"Annual Income (k$)\",\"Annual Income (k$)\",\"Annual Income (k$)\",\"Annual Income (k$)\",\"Annual Income (k$)\",\"Annual Income (k$)\",\"Annual Income (k$)\",\"Annual Income (k$)\",\"Annual Income (k$)\",\"Annual Income (k$)\",\"Annual Income (k$)\",\"Annual Income (k$)\",\"Annual Income (k$)\",\"Annual Income (k$)\",\"Annual Income (k$)\",\"Annual Income (k$)\",\"Annual Income (k$)\",\"Annual Income (k$)\",\"Annual Income (k$)\",\"Annual Income (k$)\",\"Annual Income (k$)\",\"Annual Income (k$)\",\"Annual Income (k$)\",\"Annual Income (k$)\",\"Annual Income (k$)\",\"Annual Income (k$)\",\"Annual Income (k$)\",\"Annual Income (k$)\",\"Annual Income (k$)\",\"Annual Income (k$)\",\"Annual Income (k$)\",\"Annual Income (k$)\",\"Annual Income (k$)\",\"Annual Income (k$)\",\"Annual Income (k$)\",\"Annual Income (k$)\",\"Annual Income (k$)\",\"Annual Income (k$)\",\"Annual Income (k$)\",\"Annual Income (k$)\",\"Annual Income (k$)\",\"Annual Income (k$)\",\"Annual Income (k$)\",\"Annual Income (k$)\",\"Annual Income (k$)\",\"Annual Income (k$)\",\"Annual Income (k$)\",\"Annual Income (k$)\",\"Annual Income (k$)\",\"Annual Income (k$)\",\"Annual Income (k$)\",\"Annual Income (k$)\",\"Annual Income (k$)\",\"Annual Income (k$)\",\"Annual Income (k$)\",\"Annual Income (k$)\",\"Annual Income (k$)\",\"Annual Income (k$)\",\"Annual Income (k$)\",\"Annual Income (k$)\",\"Annual Income (k$)\",\"Annual Income (k$)\",\"Annual Income (k$)\",\"Annual Income (k$)\",\"Annual Income (k$)\",\"Annual Income (k$)\",\"Annual Income (k$)\",\"Annual Income (k$)\",\"Annual Income (k$)\",\"Annual Income (k$)\",\"Annual Income (k$)\",\"Annual Income (k$)\",\"Annual Income (k$)\",\"Annual Income (k$)\",\"Annual Income (k$)\",\"Annual Income (k$)\",\"Annual Income (k$)\",\"Annual Income (k$)\",\"Annual Income (k$)\",\"Annual Income (k$)\",\"Annual Income (k$)\",\"Annual Income (k$)\",\"Annual Income (k$)\",\"Annual Income (k$)\",\"Annual Income (k$)\",\"Annual Income (k$)\",\"Annual Income (k$)\",\"Annual Income (k$)\",\"Annual Income (k$)\",\"Annual Income (k$)\",\"Annual Income (k$)\",\"Annual Income (k$)\",\"Annual Income (k$)\",\"Annual Income (k$)\",\"Annual Income (k$)\",\"Annual Income (k$)\",\"Annual Income (k$)\",\"Annual Income (k$)\",\"Annual Income (k$)\",\"Annual Income (k$)\",\"Annual Income (k$)\",\"Annual Income (k$)\",\"Annual Income (k$)\",\"Annual Income (k$)\",\"Annual Income (k$)\",\"Annual Income (k$)\",\"Annual Income (k$)\",\"Annual Income (k$)\",\"Annual Income (k$)\",\"Annual Income (k$)\",\"Annual Income (k$)\",\"Annual Income (k$)\",\"Annual Income (k$)\",\"Annual Income (k$)\",\"Annual Income (k$)\",\"Annual Income (k$)\",\"Annual Income (k$)\",\"Annual Income (k$)\",\"Annual Income (k$)\",\"Annual Income (k$)\",\"Annual Income (k$)\",\"Annual Income (k$)\",\"Annual Income (k$)\",\"Annual Income (k$)\",\"Annual Income (k$)\",\"Annual Income (k$)\",\"Annual Income (k$)\",\"Annual Income (k$)\",\"Annual Income (k$)\",\"Annual Income (k$)\",\"Annual Income (k$)\",\"Annual Income (k$)\",\"Annual Income (k$)\",\"Annual Income (k$)\",\"Annual Income (k$)\",\"Annual Income (k$)\",\"Annual Income (k$)\",\"Annual Income (k$)\",\"Annual Income (k$)\",\"Annual Income (k$)\",\"Annual Income (k$)\",\"Annual Income (k$)\",\"Annual Income (k$)\",\"Annual Income (k$)\",\"Annual Income (k$)\",\"Annual Income (k$)\",\"Annual Income (k$)\",\"Annual Income (k$)\",\"Annual Income (k$)\",\"Annual Income (k$)\",\"Annual Income (k$)\",\"Annual Income (k$)\",\"Annual Income (k$)\",\"Annual Income (k$)\",\"Annual Income (k$)\",\"Annual Income (k$)\",\"Annual Income (k$)\",\"Annual Income (k$)\",\"Annual Income (k$)\",\"Annual Income (k$)\",\"Annual Income (k$)\",\"Annual Income (k$)\",\"Annual Income (k$)\",\"Annual Income (k$)\",\"Annual Income (k$)\",\"Annual Income (k$)\",\"Annual Income (k$)\",\"Annual Income (k$)\",\"Annual Income (k$)\",\"Annual Income (k$)\",\"Annual Income (k$)\",\"Annual Income (k$)\",\"Annual Income (k$)\",\"Annual Income (k$)\",\"Annual Income (k$)\",\"Annual Income (k$)\",\"Annual Income (k$)\",\"Annual Income (k$)\",\"Annual Income (k$)\",\"Annual Income (k$)\",\"Annual Income (k$)\",\"Annual Income (k$)\",\"Spending Score (1-100)\",\"Spending Score (1-100)\",\"Spending Score (1-100)\",\"Spending Score (1-100)\",\"Spending Score (1-100)\",\"Spending Score (1-100)\",\"Spending Score (1-100)\",\"Spending Score (1-100)\",\"Spending Score (1-100)\",\"Spending Score (1-100)\",\"Spending Score (1-100)\",\"Spending Score (1-100)\",\"Spending Score (1-100)\",\"Spending Score (1-100)\",\"Spending Score (1-100)\",\"Spending Score (1-100)\",\"Spending Score (1-100)\",\"Spending Score (1-100)\",\"Spending Score (1-100)\",\"Spending Score (1-100)\",\"Spending Score (1-100)\",\"Spending Score (1-100)\",\"Spending Score (1-100)\",\"Spending Score (1-100)\",\"Spending Score (1-100)\",\"Spending Score (1-100)\",\"Spending Score (1-100)\",\"Spending Score (1-100)\",\"Spending Score (1-100)\",\"Spending Score (1-100)\",\"Spending Score (1-100)\",\"Spending Score (1-100)\",\"Spending Score (1-100)\",\"Spending Score (1-100)\",\"Spending Score (1-100)\",\"Spending Score (1-100)\",\"Spending Score (1-100)\",\"Spending Score (1-100)\",\"Spending Score (1-100)\",\"Spending Score (1-100)\",\"Spending Score (1-100)\",\"Spending Score (1-100)\",\"Spending Score (1-100)\",\"Spending Score (1-100)\",\"Spending Score (1-100)\",\"Spending Score (1-100)\",\"Spending Score (1-100)\",\"Spending Score (1-100)\",\"Spending Score (1-100)\",\"Spending Score (1-100)\",\"Spending Score (1-100)\",\"Spending Score (1-100)\",\"Spending Score (1-100)\",\"Spending Score (1-100)\",\"Spending Score (1-100)\",\"Spending Score (1-100)\",\"Spending Score (1-100)\",\"Spending Score (1-100)\",\"Spending Score (1-100)\",\"Spending Score (1-100)\",\"Spending Score (1-100)\",\"Spending Score (1-100)\",\"Spending Score (1-100)\",\"Spending Score (1-100)\",\"Spending Score (1-100)\",\"Spending Score (1-100)\",\"Spending Score (1-100)\",\"Spending Score (1-100)\",\"Spending Score (1-100)\",\"Spending Score (1-100)\",\"Spending Score (1-100)\",\"Spending Score (1-100)\",\"Spending Score (1-100)\",\"Spending Score (1-100)\",\"Spending Score (1-100)\",\"Spending Score (1-100)\",\"Spending Score (1-100)\",\"Spending Score (1-100)\",\"Spending Score (1-100)\",\"Spending Score (1-100)\",\"Spending Score (1-100)\",\"Spending Score (1-100)\",\"Spending Score (1-100)\",\"Spending Score (1-100)\",\"Spending Score (1-100)\",\"Spending Score (1-100)\",\"Spending Score (1-100)\",\"Spending Score (1-100)\",\"Spending Score (1-100)\",\"Spending Score (1-100)\",\"Spending Score (1-100)\",\"Spending Score (1-100)\",\"Spending Score (1-100)\",\"Spending Score (1-100)\",\"Spending Score (1-100)\",\"Spending Score (1-100)\",\"Spending Score (1-100)\",\"Spending Score (1-100)\",\"Spending Score (1-100)\",\"Spending Score (1-100)\",\"Spending Score (1-100)\",\"Spending Score (1-100)\",\"Spending Score (1-100)\",\"Spending Score (1-100)\",\"Spending Score (1-100)\",\"Spending Score (1-100)\",\"Spending Score (1-100)\",\"Spending Score (1-100)\",\"Spending Score (1-100)\",\"Spending Score (1-100)\",\"Spending Score (1-100)\",\"Spending Score (1-100)\",\"Spending Score (1-100)\",\"Spending Score (1-100)\",\"Spending Score (1-100)\",\"Spending Score (1-100)\",\"Spending Score (1-100)\",\"Spending Score (1-100)\",\"Spending Score (1-100)\",\"Spending Score (1-100)\",\"Spending Score (1-100)\",\"Spending Score (1-100)\",\"Spending Score (1-100)\",\"Spending Score (1-100)\",\"Spending Score (1-100)\",\"Spending Score (1-100)\",\"Spending Score (1-100)\",\"Spending Score (1-100)\",\"Spending Score (1-100)\",\"Spending Score (1-100)\",\"Spending Score (1-100)\",\"Spending Score (1-100)\",\"Spending Score (1-100)\",\"Spending Score (1-100)\",\"Spending Score (1-100)\",\"Spending Score (1-100)\",\"Spending Score (1-100)\",\"Spending Score (1-100)\",\"Spending Score (1-100)\",\"Spending Score (1-100)\",\"Spending Score (1-100)\",\"Spending Score (1-100)\",\"Spending Score (1-100)\",\"Spending Score (1-100)\",\"Spending Score (1-100)\",\"Spending Score (1-100)\",\"Spending Score (1-100)\",\"Spending Score (1-100)\",\"Spending Score (1-100)\",\"Spending Score (1-100)\",\"Spending Score (1-100)\",\"Spending Score (1-100)\",\"Spending Score (1-100)\",\"Spending Score (1-100)\",\"Spending Score (1-100)\",\"Spending Score (1-100)\",\"Spending Score (1-100)\",\"Spending Score (1-100)\",\"Spending Score (1-100)\",\"Spending Score (1-100)\",\"Spending Score (1-100)\",\"Spending Score (1-100)\",\"Spending Score (1-100)\",\"Spending Score (1-100)\",\"Spending Score (1-100)\",\"Spending Score (1-100)\",\"Spending Score (1-100)\",\"Spending Score (1-100)\",\"Spending Score (1-100)\",\"Spending Score (1-100)\",\"Spending Score (1-100)\",\"Spending Score (1-100)\",\"Spending Score (1-100)\",\"Spending Score (1-100)\",\"Spending Score (1-100)\",\"Spending Score (1-100)\",\"Spending Score (1-100)\",\"Spending Score (1-100)\",\"Spending Score (1-100)\",\"Spending Score (1-100)\",\"Spending Score (1-100)\",\"Spending Score (1-100)\",\"Spending Score (1-100)\",\"Spending Score (1-100)\",\"Spending Score (1-100)\",\"Spending Score (1-100)\",\"Spending Score (1-100)\",\"Spending Score (1-100)\",\"Spending Score (1-100)\",\"Spending Score (1-100)\",\"Spending Score (1-100)\",\"Spending Score (1-100)\",\"Spending Score (1-100)\",\"Spending Score (1-100)\",\"Spending Score (1-100)\",\"Spending Score (1-100)\",\"Spending Score (1-100)\",\"Spending Score (1-100)\",\"Spending Score (1-100)\",\"Spending Score (1-100)\"],\"x0\":\" \",\"xaxis\":\"x\",\"y\":[19,21,20,23,31,22,35,23,64,30,67,35,58,24,37,22,35,20,52,35,35,25,46,31,54,29,45,35,40,23,60,21,53,18,49,21,42,30,36,20,65,24,48,31,49,24,50,27,29,31,49,33,31,59,50,47,51,69,27,53,70,19,67,54,63,18,43,68,19,32,70,47,60,60,59,26,45,40,23,49,57,38,67,46,21,48,55,22,34,50,68,18,48,40,32,24,47,27,48,20,23,49,67,26,49,21,66,54,68,66,65,19,38,19,18,19,63,49,51,50,27,38,40,39,23,31,43,40,59,38,47,39,25,31,20,29,44,32,19,35,57,32,28,32,25,28,48,32,34,34,43,39,44,38,47,27,37,30,34,30,56,29,19,31,50,36,42,33,36,32,40,28,36,36,52,30,58,27,59,35,37,32,46,29,41,30,54,28,41,36,34,32,33,38,47,35,45,32,32,30,15,15,16,16,17,17,18,18,19,19,19,19,20,20,20,20,21,21,23,23,24,24,25,25,28,28,28,28,29,29,30,30,33,33,33,33,34,34,37,37,38,38,39,39,39,39,40,40,40,40,42,42,43,43,43,43,44,44,46,46,46,46,47,47,48,48,48,48,48,48,49,49,50,50,54,54,54,54,54,54,54,54,54,54,54,54,57,57,58,58,59,59,60,60,60,60,60,60,61,61,62,62,62,62,62,62,63,63,63,63,63,63,64,64,65,65,65,65,67,67,67,67,69,69,70,70,71,71,71,71,71,71,72,72,73,73,73,73,74,74,75,75,76,76,77,77,77,77,78,78,78,78,78,78,78,78,78,78,78,78,79,79,81,81,85,85,86,86,87,87,87,87,87,87,88,88,88,88,93,93,97,97,98,98,99,99,101,101,103,103,103,103,113,113,120,120,126,126,137,137,39,81,6,77,40,76,6,94,3,72,14,99,15,77,13,79,35,66,29,98,35,73,5,73,14,82,32,61,31,87,4,73,4,92,14,81,17,73,26,75,35,92,36,61,28,65,55,47,42,42,52,60,54,60,45,41,50,46,51,46,56,55,52,59,51,59,50,48,59,47,55,42,49,56,47,54,53,48,52,42,51,55,41,44,57,46,58,55,60,46,55,41,49,40,42,52,47,50,42,49,41,48,59,55,56,42,50,46,43,48,52,54,42,46,48,50,43,59,43,57,56,40,58,91,29,77,35,95,11,75,9,75,34,71,5,88,7,73,10,72,5,93,40,87,12,97,36,74,22,90,17,88,20,76,16,89,1,78,1,73,35,83,5,93,26,75,20,95,27,63,13,75,10,92,13,86,15,69,14,90,32,86,15,88,39,97,24,68,17,85,23,69,8,91,16,79,28,74,18,83],\"y0\":\" \",\"yaxis\":\"y\",\"type\":\"box\"}],                        {\"template\":{\"data\":{\"bar\":[{\"error_x\":{\"color\":\"#2a3f5f\"},\"error_y\":{\"color\":\"#2a3f5f\"},\"marker\":{\"line\":{\"color\":\"#E5ECF6\",\"width\":0.5},\"pattern\":{\"fillmode\":\"overlay\",\"size\":10,\"solidity\":0.2}},\"type\":\"bar\"}],\"barpolar\":[{\"marker\":{\"line\":{\"color\":\"#E5ECF6\",\"width\":0.5},\"pattern\":{\"fillmode\":\"overlay\",\"size\":10,\"solidity\":0.2}},\"type\":\"barpolar\"}],\"carpet\":[{\"aaxis\":{\"endlinecolor\":\"#2a3f5f\",\"gridcolor\":\"white\",\"linecolor\":\"white\",\"minorgridcolor\":\"white\",\"startlinecolor\":\"#2a3f5f\"},\"baxis\":{\"endlinecolor\":\"#2a3f5f\",\"gridcolor\":\"white\",\"linecolor\":\"white\",\"minorgridcolor\":\"white\",\"startlinecolor\":\"#2a3f5f\"},\"type\":\"carpet\"}],\"choropleth\":[{\"colorbar\":{\"outlinewidth\":0,\"ticks\":\"\"},\"type\":\"choropleth\"}],\"contour\":[{\"colorbar\":{\"outlinewidth\":0,\"ticks\":\"\"},\"colorscale\":[[0.0,\"#0d0887\"],[0.1111111111111111,\"#46039f\"],[0.2222222222222222,\"#7201a8\"],[0.3333333333333333,\"#9c179e\"],[0.4444444444444444,\"#bd3786\"],[0.5555555555555556,\"#d8576b\"],[0.6666666666666666,\"#ed7953\"],[0.7777777777777778,\"#fb9f3a\"],[0.8888888888888888,\"#fdca26\"],[1.0,\"#f0f921\"]],\"type\":\"contour\"}],\"contourcarpet\":[{\"colorbar\":{\"outlinewidth\":0,\"ticks\":\"\"},\"type\":\"contourcarpet\"}],\"heatmap\":[{\"colorbar\":{\"outlinewidth\":0,\"ticks\":\"\"},\"colorscale\":[[0.0,\"#0d0887\"],[0.1111111111111111,\"#46039f\"],[0.2222222222222222,\"#7201a8\"],[0.3333333333333333,\"#9c179e\"],[0.4444444444444444,\"#bd3786\"],[0.5555555555555556,\"#d8576b\"],[0.6666666666666666,\"#ed7953\"],[0.7777777777777778,\"#fb9f3a\"],[0.8888888888888888,\"#fdca26\"],[1.0,\"#f0f921\"]],\"type\":\"heatmap\"}],\"heatmapgl\":[{\"colorbar\":{\"outlinewidth\":0,\"ticks\":\"\"},\"colorscale\":[[0.0,\"#0d0887\"],[0.1111111111111111,\"#46039f\"],[0.2222222222222222,\"#7201a8\"],[0.3333333333333333,\"#9c179e\"],[0.4444444444444444,\"#bd3786\"],[0.5555555555555556,\"#d8576b\"],[0.6666666666666666,\"#ed7953\"],[0.7777777777777778,\"#fb9f3a\"],[0.8888888888888888,\"#fdca26\"],[1.0,\"#f0f921\"]],\"type\":\"heatmapgl\"}],\"histogram\":[{\"marker\":{\"pattern\":{\"fillmode\":\"overlay\",\"size\":10,\"solidity\":0.2}},\"type\":\"histogram\"}],\"histogram2d\":[{\"colorbar\":{\"outlinewidth\":0,\"ticks\":\"\"},\"colorscale\":[[0.0,\"#0d0887\"],[0.1111111111111111,\"#46039f\"],[0.2222222222222222,\"#7201a8\"],[0.3333333333333333,\"#9c179e\"],[0.4444444444444444,\"#bd3786\"],[0.5555555555555556,\"#d8576b\"],[0.6666666666666666,\"#ed7953\"],[0.7777777777777778,\"#fb9f3a\"],[0.8888888888888888,\"#fdca26\"],[1.0,\"#f0f921\"]],\"type\":\"histogram2d\"}],\"histogram2dcontour\":[{\"colorbar\":{\"outlinewidth\":0,\"ticks\":\"\"},\"colorscale\":[[0.0,\"#0d0887\"],[0.1111111111111111,\"#46039f\"],[0.2222222222222222,\"#7201a8\"],[0.3333333333333333,\"#9c179e\"],[0.4444444444444444,\"#bd3786\"],[0.5555555555555556,\"#d8576b\"],[0.6666666666666666,\"#ed7953\"],[0.7777777777777778,\"#fb9f3a\"],[0.8888888888888888,\"#fdca26\"],[1.0,\"#f0f921\"]],\"type\":\"histogram2dcontour\"}],\"mesh3d\":[{\"colorbar\":{\"outlinewidth\":0,\"ticks\":\"\"},\"type\":\"mesh3d\"}],\"parcoords\":[{\"line\":{\"colorbar\":{\"outlinewidth\":0,\"ticks\":\"\"}},\"type\":\"parcoords\"}],\"pie\":[{\"automargin\":true,\"type\":\"pie\"}],\"scatter\":[{\"marker\":{\"colorbar\":{\"outlinewidth\":0,\"ticks\":\"\"}},\"type\":\"scatter\"}],\"scatter3d\":[{\"line\":{\"colorbar\":{\"outlinewidth\":0,\"ticks\":\"\"}},\"marker\":{\"colorbar\":{\"outlinewidth\":0,\"ticks\":\"\"}},\"type\":\"scatter3d\"}],\"scattercarpet\":[{\"marker\":{\"colorbar\":{\"outlinewidth\":0,\"ticks\":\"\"}},\"type\":\"scattercarpet\"}],\"scattergeo\":[{\"marker\":{\"colorbar\":{\"outlinewidth\":0,\"ticks\":\"\"}},\"type\":\"scattergeo\"}],\"scattergl\":[{\"marker\":{\"colorbar\":{\"outlinewidth\":0,\"ticks\":\"\"}},\"type\":\"scattergl\"}],\"scattermapbox\":[{\"marker\":{\"colorbar\":{\"outlinewidth\":0,\"ticks\":\"\"}},\"type\":\"scattermapbox\"}],\"scatterpolar\":[{\"marker\":{\"colorbar\":{\"outlinewidth\":0,\"ticks\":\"\"}},\"type\":\"scatterpolar\"}],\"scatterpolargl\":[{\"marker\":{\"colorbar\":{\"outlinewidth\":0,\"ticks\":\"\"}},\"type\":\"scatterpolargl\"}],\"scatterternary\":[{\"marker\":{\"colorbar\":{\"outlinewidth\":0,\"ticks\":\"\"}},\"type\":\"scatterternary\"}],\"surface\":[{\"colorbar\":{\"outlinewidth\":0,\"ticks\":\"\"},\"colorscale\":[[0.0,\"#0d0887\"],[0.1111111111111111,\"#46039f\"],[0.2222222222222222,\"#7201a8\"],[0.3333333333333333,\"#9c179e\"],[0.4444444444444444,\"#bd3786\"],[0.5555555555555556,\"#d8576b\"],[0.6666666666666666,\"#ed7953\"],[0.7777777777777778,\"#fb9f3a\"],[0.8888888888888888,\"#fdca26\"],[1.0,\"#f0f921\"]],\"type\":\"surface\"}],\"table\":[{\"cells\":{\"fill\":{\"color\":\"#EBF0F8\"},\"line\":{\"color\":\"white\"}},\"header\":{\"fill\":{\"color\":\"#C8D4E3\"},\"line\":{\"color\":\"white\"}},\"type\":\"table\"}]},\"layout\":{\"annotationdefaults\":{\"arrowcolor\":\"#2a3f5f\",\"arrowhead\":0,\"arrowwidth\":1},\"autotypenumbers\":\"strict\",\"coloraxis\":{\"colorbar\":{\"outlinewidth\":0,\"ticks\":\"\"}},\"colorscale\":{\"diverging\":[[0,\"#8e0152\"],[0.1,\"#c51b7d\"],[0.2,\"#de77ae\"],[0.3,\"#f1b6da\"],[0.4,\"#fde0ef\"],[0.5,\"#f7f7f7\"],[0.6,\"#e6f5d0\"],[0.7,\"#b8e186\"],[0.8,\"#7fbc41\"],[0.9,\"#4d9221\"],[1,\"#276419\"]],\"sequential\":[[0.0,\"#0d0887\"],[0.1111111111111111,\"#46039f\"],[0.2222222222222222,\"#7201a8\"],[0.3333333333333333,\"#9c179e\"],[0.4444444444444444,\"#bd3786\"],[0.5555555555555556,\"#d8576b\"],[0.6666666666666666,\"#ed7953\"],[0.7777777777777778,\"#fb9f3a\"],[0.8888888888888888,\"#fdca26\"],[1.0,\"#f0f921\"]],\"sequentialminus\":[[0.0,\"#0d0887\"],[0.1111111111111111,\"#46039f\"],[0.2222222222222222,\"#7201a8\"],[0.3333333333333333,\"#9c179e\"],[0.4444444444444444,\"#bd3786\"],[0.5555555555555556,\"#d8576b\"],[0.6666666666666666,\"#ed7953\"],[0.7777777777777778,\"#fb9f3a\"],[0.8888888888888888,\"#fdca26\"],[1.0,\"#f0f921\"]]},\"colorway\":[\"#636efa\",\"#EF553B\",\"#00cc96\",\"#ab63fa\",\"#FFA15A\",\"#19d3f3\",\"#FF6692\",\"#B6E880\",\"#FF97FF\",\"#FECB52\"],\"font\":{\"color\":\"#2a3f5f\"},\"geo\":{\"bgcolor\":\"white\",\"lakecolor\":\"white\",\"landcolor\":\"#E5ECF6\",\"showlakes\":true,\"showland\":true,\"subunitcolor\":\"white\"},\"hoverlabel\":{\"align\":\"left\"},\"hovermode\":\"closest\",\"mapbox\":{\"style\":\"light\"},\"paper_bgcolor\":\"white\",\"plot_bgcolor\":\"#E5ECF6\",\"polar\":{\"angularaxis\":{\"gridcolor\":\"white\",\"linecolor\":\"white\",\"ticks\":\"\"},\"bgcolor\":\"#E5ECF6\",\"radialaxis\":{\"gridcolor\":\"white\",\"linecolor\":\"white\",\"ticks\":\"\"}},\"scene\":{\"xaxis\":{\"backgroundcolor\":\"#E5ECF6\",\"gridcolor\":\"white\",\"gridwidth\":2,\"linecolor\":\"white\",\"showbackground\":true,\"ticks\":\"\",\"zerolinecolor\":\"white\"},\"yaxis\":{\"backgroundcolor\":\"#E5ECF6\",\"gridcolor\":\"white\",\"gridwidth\":2,\"linecolor\":\"white\",\"showbackground\":true,\"ticks\":\"\",\"zerolinecolor\":\"white\"},\"zaxis\":{\"backgroundcolor\":\"#E5ECF6\",\"gridcolor\":\"white\",\"gridwidth\":2,\"linecolor\":\"white\",\"showbackground\":true,\"ticks\":\"\",\"zerolinecolor\":\"white\"}},\"shapedefaults\":{\"line\":{\"color\":\"#2a3f5f\"}},\"ternary\":{\"aaxis\":{\"gridcolor\":\"white\",\"linecolor\":\"white\",\"ticks\":\"\"},\"baxis\":{\"gridcolor\":\"white\",\"linecolor\":\"white\",\"ticks\":\"\"},\"bgcolor\":\"#E5ECF6\",\"caxis\":{\"gridcolor\":\"white\",\"linecolor\":\"white\",\"ticks\":\"\"}},\"title\":{\"x\":0.05},\"xaxis\":{\"automargin\":true,\"gridcolor\":\"white\",\"linecolor\":\"white\",\"ticks\":\"\",\"title\":{\"standoff\":15},\"zerolinecolor\":\"white\",\"zerolinewidth\":2},\"yaxis\":{\"automargin\":true,\"gridcolor\":\"white\",\"linecolor\":\"white\",\"ticks\":\"\",\"title\":{\"standoff\":15},\"zerolinecolor\":\"white\",\"zerolinewidth\":2}}},\"xaxis\":{\"anchor\":\"y\",\"domain\":[0.0,1.0],\"title\":{\"text\":\"variable\"}},\"yaxis\":{\"anchor\":\"x\",\"domain\":[0.0,1.0],\"title\":{\"text\":\"value\"},\"type\":\"log\"},\"legend\":{\"tracegroupgap\":0},\"title\":{\"text\":\"Circumference and height boxplot before cleanup\"},\"boxmode\":\"group\"},                        {\"responsive\": true}                    ).then(function(){\n",
       "                            \n",
       "var gd = document.getElementById('acb4251a-ad13-4731-95f4-7868222341c4');\n",
       "var x = new MutationObserver(function (mutations, observer) {{\n",
       "        var display = window.getComputedStyle(gd).display;\n",
       "        if (!display || display === 'none') {{\n",
       "            console.log([gd, 'removed!']);\n",
       "            Plotly.purge(gd);\n",
       "            observer.disconnect();\n",
       "        }}\n",
       "}});\n",
       "\n",
       "// Listen for the removal of the full notebook cells\n",
       "var notebookContainer = gd.closest('#notebook-container');\n",
       "if (notebookContainer) {{\n",
       "    x.observe(notebookContainer, {childList: true});\n",
       "}}\n",
       "\n",
       "// Listen for the clearing of the current output cell\n",
       "var outputEl = gd.closest('.output');\n",
       "if (outputEl) {{\n",
       "    x.observe(outputEl, {childList: true});\n",
       "}}\n",
       "\n",
       "                        })                };                });            </script>        </div>"
      ]
     },
     "metadata": {},
     "output_type": "display_data"
    }
   ],
   "source": [
    "boxplots_after = px.box(data,\n",
    "                         y=['Age', 'Annual Income (k$)', 'Spending Score (1-100)'],\n",
    "                         labels={'circonference_cm': 'Circumference in centimeters',\n",
    "                                 'hauteur_m': 'Height in meters'\n",
    "                                 },\n",
    "                         title='Circumference and height boxplot before cleanup',\n",
    "                         log_y=True)\n",
    "boxplots_after.show()"
   ]
  },
  {
   "cell_type": "markdown",
   "id": "ae0662bf",
   "metadata": {
    "heading_collapsed": true,
    "hidden": true
   },
   "source": [
    "## Pairplot"
   ]
  },
  {
   "cell_type": "code",
   "execution_count": 7,
   "id": "fcb540af",
   "metadata": {
    "ExecuteTime": {
     "end_time": "2022-02-16T10:29:50.512327Z",
     "start_time": "2022-02-16T10:29:45.972237Z"
    },
    "hidden": true
   },
   "outputs": [
    {
     "data": {
      "image/png": "[encoded data removed]",
      "text/plain": [
       "<Figure size 789.375x720 with 20 Axes>"
      ]
     },
     "metadata": {},
     "output_type": "display_data"
    }
   ],
   "source": [
    "sns.pairplot(data, hue=\"Gender\")\n",
    "plt.show()"
   ]
  },
  {
   "cell_type": "markdown",
   "id": "7b836c59",
   "metadata": {
    "heading_collapsed": true,
    "hidden": true
   },
   "source": [
    "## Correlation box"
   ]
  },
  {
   "cell_type": "code",
   "execution_count": 5,
   "id": "444a12f7",
   "metadata": {
    "ExecuteTime": {
     "end_time": "2022-02-16T10:28:39.378934Z",
     "start_time": "2022-02-16T10:28:39.004806Z"
    },
    "hidden": true,
    "scrolled": false
   },
   "outputs": [
    {
     "data": {
      "image/png": "[encoded data removed]",
      "text/plain": [
       "<Figure size 576x396 with 2 Axes>"
      ]
     },
     "metadata": {},
     "output_type": "display_data"
    }
   ],
   "source": [
    "dataplot = sns.heatmap(data.corr(), cmap=\"YlGnBu\", annot=True)\n",
    "plt.show()"
   ]
  },
  {
   "cell_type": "markdown",
   "id": "a060d572",
   "metadata": {
    "heading_collapsed": true,
    "hidden": true
   },
   "source": [
    "## Gender Distribution"
   ]
  },
  {
   "cell_type": "code",
   "execution_count": 22,
   "id": "6e5cda58",
   "metadata": {
    "ExecuteTime": {
     "end_time": "2022-02-16T10:51:03.995929Z",
     "start_time": "2022-02-16T10:51:02.126938Z"
    },
    "hidden": true,
    "scrolled": true
   },
   "outputs": [
    {
     "data": {
      "image/png": "[encoded data removed]",
      "text/plain": [
       "<Figure size 576x396 with 1 Axes>"
      ]
     },
     "metadata": {},
     "output_type": "display_data"
    }
   ],
   "source": [
    "gender_group = data.groupby(['Gender'])\n",
    "gender_group.size().plot(kind='pie', \n",
    "                         ylabel='Gender', \n",
    "                         colors=['pink', 'steelblue', 'pink'], \n",
    "                         title='Gender distribution',\n",
    "                         autopct='%.0f%%')\n",
    "plt.show()"
   ]
  },
  {
   "cell_type": "markdown",
   "id": "f3052a54",
   "metadata": {},
   "source": [
    "# Clustering"
   ]
  },
  {
   "cell_type": "markdown",
   "id": "f3ec6e0f",
   "metadata": {},
   "source": [
    "## Label Encoding"
   ]
  },
  {
   "cell_type": "code",
   "execution_count": null,
   "id": "8f367d13",
   "metadata": {},
   "outputs": [],
   "source": [
    "le = LabelEncoder()\n",
    "le_count = 0\n",
    "\n",
    "for col in app_train:\n",
    "    if data[col].dtype == 'object' or data[col].dtype == 'string':\n",
    "        le.fit(data[col])\n",
    "        data[col] = le.transform(data[col])\n",
    "        le_count += 1\n",
    "        print(col)\n",
    "data.reset_index()\n",
    "print('%d columns were label encoded.' % le_count)"
   ]
  }
 ],
 "metadata": {
  "kernelspec": {
   "display_name": "Python 3 (ipykernel)",
   "language": "python",
   "name": "python3"
  },
  "language_info": {
   "codemirror_mode": {
    "name": "ipython",
    "version": 3
   },
   "file_extension": ".py",
   "mimetype": "text/x-python",
   "name": "python",
   "nbconvert_exporter": "python",
   "pygments_lexer": "ipython3",
   "version": "3.9.6"
  }
 },
 "nbformat": 4,
 "nbformat_minor": 5
}
